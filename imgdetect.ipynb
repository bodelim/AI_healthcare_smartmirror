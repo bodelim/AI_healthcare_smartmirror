{
 "cells": [
  {
   "cell_type": "code",
   "execution_count": 4,
   "source": [
    "import cv2, sys\r\n",
    "from matplotlib import pyplot as plt\r\n",
    "import numpy as np"
   ],
   "outputs": [],
   "metadata": {}
  },
  {
   "cell_type": "code",
   "execution_count": 5,
   "source": [
    "img_path = 'trail_train_data\\surface_img/cancer2.jpg'\r\n",
    "image = cv2.imread(img_path)\r\n",
    "#image = cv2.resize(image, (500, 500), interpolation = cv2.INTER_CUBIC)\r\n",
    "\r\n",
    "image_gray = cv2.imread(img_path, cv2.IMREAD_GRAYSCALE)\r\n",
    "#image_gray = cv2.resize(image_gray, (500, 500), interpolation = cv2.INTER_CUBIC)\r\n",
    "\r\n",
    "\r\n"
   ],
   "outputs": [],
   "metadata": {}
  },
  {
   "cell_type": "code",
   "execution_count": 6,
   "source": [
    "b,g,r = cv2.split(image)\r\n",
    "image2 = cv2.merge([r,g,b])\r\n",
    " \r\n",
    "plt.imshow(image2)\r\n",
    "plt.xticks([])\r\n",
    "plt.yticks([])\r\n",
    "plt.show()"
   ],
   "outputs": [
    {
     "output_type": "error",
     "ename": "ValueError",
     "evalue": "not enough values to unpack (expected 3, got 0)",
     "traceback": [
      "\u001b[1;31m---------------------------------------------------------------------------\u001b[0m",
      "\u001b[1;31mValueError\u001b[0m                                Traceback (most recent call last)",
      "\u001b[1;32m~\\AppData\\Local\\Temp/ipykernel_3968/1906381480.py\u001b[0m in \u001b[0;36m<module>\u001b[1;34m\u001b[0m\n\u001b[1;32m----> 1\u001b[1;33m \u001b[0mb\u001b[0m\u001b[1;33m,\u001b[0m\u001b[0mg\u001b[0m\u001b[1;33m,\u001b[0m\u001b[0mr\u001b[0m \u001b[1;33m=\u001b[0m \u001b[0mcv2\u001b[0m\u001b[1;33m.\u001b[0m\u001b[0msplit\u001b[0m\u001b[1;33m(\u001b[0m\u001b[0mimage\u001b[0m\u001b[1;33m)\u001b[0m\u001b[1;33m\u001b[0m\u001b[1;33m\u001b[0m\u001b[0m\n\u001b[0m\u001b[0;32m      2\u001b[0m \u001b[0mimage2\u001b[0m \u001b[1;33m=\u001b[0m \u001b[0mcv2\u001b[0m\u001b[1;33m.\u001b[0m\u001b[0mmerge\u001b[0m\u001b[1;33m(\u001b[0m\u001b[1;33m[\u001b[0m\u001b[0mr\u001b[0m\u001b[1;33m,\u001b[0m\u001b[0mg\u001b[0m\u001b[1;33m,\u001b[0m\u001b[0mb\u001b[0m\u001b[1;33m]\u001b[0m\u001b[1;33m)\u001b[0m\u001b[1;33m\u001b[0m\u001b[1;33m\u001b[0m\u001b[0m\n\u001b[0;32m      3\u001b[0m \u001b[1;33m\u001b[0m\u001b[0m\n\u001b[0;32m      4\u001b[0m \u001b[0mplt\u001b[0m\u001b[1;33m.\u001b[0m\u001b[0mimshow\u001b[0m\u001b[1;33m(\u001b[0m\u001b[0mimage2\u001b[0m\u001b[1;33m)\u001b[0m\u001b[1;33m\u001b[0m\u001b[1;33m\u001b[0m\u001b[0m\n\u001b[0;32m      5\u001b[0m \u001b[0mplt\u001b[0m\u001b[1;33m.\u001b[0m\u001b[0mxticks\u001b[0m\u001b[1;33m(\u001b[0m\u001b[1;33m[\u001b[0m\u001b[1;33m]\u001b[0m\u001b[1;33m)\u001b[0m\u001b[1;33m\u001b[0m\u001b[1;33m\u001b[0m\u001b[0m\n",
      "\u001b[1;31mValueError\u001b[0m: not enough values to unpack (expected 3, got 0)"
     ]
    }
   ],
   "metadata": {}
  },
  {
   "cell_type": "code",
   "execution_count": null,
   "source": [
    "#cv2.imshow('image', image)\r\n",
    "#cv2.imshow('image_gray', image_gray)\r\n",
    "# \r\n",
    "#cv2.waitKey(0)\r\n",
    "#cv2.destroyAllWindows()"
   ],
   "outputs": [],
   "metadata": {}
  },
  {
   "cell_type": "code",
   "execution_count": null,
   "source": [
    "blur = cv2.GaussianBlur(image_gray, ksize=(3,3), sigmaX=0)\r\n",
    "ret, thresh1 = cv2.threshold(blur, 127, 255, cv2.THRESH_BINARY)"
   ],
   "outputs": [],
   "metadata": {}
  },
  {
   "cell_type": "code",
   "execution_count": null,
   "source": [
    "blur = cv2.GaussianBlur(image_gray, ksize=(5,5), sigmaX=0)\r\n",
    "ret, thresh1 = cv2.threshold(blur, 127, 255, cv2.THRESH_BINARY)\r\n"
   ],
   "outputs": [],
   "metadata": {}
  },
  {
   "cell_type": "code",
   "execution_count": null,
   "source": [
    "edged = cv2.Canny(blur, 10, 250)\r\n",
    "#cv2.imshow('Edged', edged)\r\n",
    "#cv2.waitKey(0)"
   ],
   "outputs": [],
   "metadata": {}
  },
  {
   "cell_type": "code",
   "execution_count": null,
   "source": [
    "kernel = cv2.getStructuringElement(cv2.MORPH_RECT, (7,7))\r\n",
    "closed = cv2.morphologyEx(edged, cv2.MORPH_CLOSE, kernel)\r\n",
    "\r\n",
    "#cv2.imshow('closed', closed)\r\n",
    "#cv2.waitKey(0)\r\n"
   ],
   "outputs": [],
   "metadata": {}
  },
  {
   "cell_type": "code",
   "execution_count": null,
   "source": [
    "contours, _ = cv2.findContours(closed.copy(),cv2.RETR_EXTERNAL, cv2.CHAIN_APPROX_SIMPLE)\r\n",
    "total = 0\r\n"
   ],
   "outputs": [],
   "metadata": {}
  },
  {
   "cell_type": "code",
   "execution_count": null,
   "source": [
    "# 외곽선 그리는 용도. 이미지에 그리기 때문에 이 코드 적용하면 원래 이미지에\r\n",
    "# 초록색 선 생김\r\n",
    "#contours_image = cv2.drawContours(image, contours, -1, (0,255,0), 3)\r\n",
    "#cv2.imshow('contours_image', contours_image)\r\n",
    "#cv2.waitKey(0)\r\n",
    "#cv2.destroyAllWindows()\r\n"
   ],
   "outputs": [],
   "metadata": {}
  },
  {
   "cell_type": "code",
   "execution_count": null,
   "source": [
    "contours_xy = np.array(contours)\r\n",
    "contours_xy.shape\r\n",
    "\r\n",
    "# x의 min과 max 찾기\r\n",
    "x_min, x_max = 0,0\r\n",
    "value = list()\r\n",
    "for i in range(len(contours_xy)):\r\n",
    "    for j in range(len(contours_xy[i])):\r\n",
    "        value.append(contours_xy[i][j][0][0]) #네번째 괄호가 0일때 x의 값\r\n",
    "        x_min = min(value)\r\n",
    "        x_max = max(value)\r\n",
    "print(x_min)\r\n",
    "print(x_max)\r\n",
    " \r\n",
    "# y의 min과 max 찾기\r\n",
    "y_min, y_max = 0,0\r\n",
    "value = list()\r\n",
    "for i in range(len(contours_xy)):\r\n",
    "    for j in range(len(contours_xy[i])):\r\n",
    "        value.append(contours_xy[i][j][0][1]) #네번째 괄호가 0일때 x의 값\r\n",
    "        y_min = min(value)\r\n",
    "        y_max = max(value)\r\n",
    "print(y_min)\r\n",
    "print(y_max)\r\n"
   ],
   "outputs": [
    {
     "output_type": "stream",
     "name": "stdout",
     "text": [
      "0\n",
      "203\n",
      "0\n",
      "246\n"
     ]
    },
    {
     "output_type": "stream",
     "name": "stderr",
     "text": [
      "C:\\Users\\bodle\\AppData\\Local\\Programs\\Python\\Python37\\lib\\site-packages\\ipykernel_launcher.py:1: VisibleDeprecationWarning: Creating an ndarray from ragged nested sequences (which is a list-or-tuple of lists-or-tuples-or ndarrays with different lengths or shapes) is deprecated. If you meant to do this, you must specify 'dtype=object' when creating the ndarray\n",
      "  \"\"\"Entry point for launching an IPython kernel.\n"
     ]
    }
   ],
   "metadata": {}
  },
  {
   "cell_type": "code",
   "execution_count": null,
   "source": [
    "# image trim 하기\r\n",
    "x = x_min\r\n",
    "y = y_min\r\n",
    "w = x_max-x_min\r\n",
    "h = y_max-y_min"
   ],
   "outputs": [],
   "metadata": {}
  },
  {
   "cell_type": "code",
   "execution_count": null,
   "source": [
    "img_trim = image[y:y+h, x:x+w]\r\n",
    "cv2.imwrite('org_trim.jpg', img_trim)\r\n",
    "org_image = cv2.imread('org_trim.jpg')"
   ],
   "outputs": [],
   "metadata": {}
  },
  {
   "cell_type": "code",
   "execution_count": null,
   "source": [
    "# 마우스로 관심영역 지정 및 표시, 저장 (roi_crop_mouse.py)\r\n",
    "\r\n",
    "import cv2\r\n",
    "import numpy as np\r\n",
    "\r\n",
    "isDragging = False                      # 마우스 드래그 상태 저장 \r\n",
    "x0, y0, w, h = -1,-1,-1,-1              # 영역 선택 좌표 저장\r\n",
    "blue, red = (255,0,0),(0,0,255)         # 색상 값 \r\n",
    "\r\n",
    "def onMouse(event,x,y,flags,param):     # 마우스 이벤트 핸들 함수  ---①\r\n",
    "    global isDragging, x0, y0, img      # 전역변수 참조\r\n",
    "    if event == cv2.EVENT_LBUTTONDOWN:  # 왼쪽 마우스 버튼 다운, 드래그 시작 ---②\r\n",
    "        isDragging = True\r\n",
    "        x0 = x\r\n",
    "        y0 = y\r\n",
    "    elif event == cv2.EVENT_MOUSEMOVE:  # 마우스 움직임 ---③\r\n",
    "        if isDragging:                  # 드래그 진행 중\r\n",
    "            img_draw = img.copy()       # 사각형 그림 표현을 위한 이미지 복제\r\n",
    "            cv2.rectangle(img_draw, (x0, y0), (x, y), blue, 2) # 드래그 진행 영역 표시\r\n",
    "            cv2.imshow('img', img_draw) # 사각형 표시된 그림 화면 출력\r\n",
    "    elif event == cv2.EVENT_LBUTTONUP:  # 왼쪽 마우스 버튼 업 ---④\r\n",
    "        if isDragging:                  # 드래그 중지\r\n",
    "            isDragging = False          \r\n",
    "            w = x - x0                  # 드래그 영역 폭 계산\r\n",
    "            h = y - y0                  # 드래그 영역 높이 계산\r\n",
    "            print(\"x:%d, y:%d, w:%d, h:%d\" % (x0, y0, w, h))\r\n",
    "            if w > 0 and h > 0:         # 폭과 높이가 양수이면 드래그 방향이 옳음 ---⑤\r\n",
    "                img_draw = img.copy()   # 선택 영역에 사각형 그림을 표시할 이미지 복제\r\n",
    "                # 선택 영역에 빨간 사각형 표시\r\n",
    "                cv2.rectangle(img_draw, (x0, y0), (x, y), red, 2) \r\n",
    "                cv2.imshow('img', img_draw) # 빨간 사각형 그려진 이미지 화면 출력\r\n",
    "                roi = img[y0:y0+h, x0:x0+w] # 원본 이미지에서 선택 영영만 ROI로 지정 ---⑥\r\n",
    "                cv2.imshow('cropped', roi)  # ROI 지정 영역을 새창으로 표시\r\n",
    "                cv2.moveWindow('cropped', 0, 0) # 새창을 화면 좌측 상단에 이동\r\n",
    "                cv2.imwrite('./cropped.jpg', roi)   # ROI 영역만 파일로 저장 ---⑦\r\n",
    "                print(\"croped.\")\r\n",
    "            else:\r\n",
    "                cv2.imshow('img', img)  # 드래그 방향이 잘못된 경우 사각형 그림ㅇㅣ 없는 원본 이미지 출력\r\n",
    "                print(\"좌측 상단에서 우측 하단으로 영역을 드래그 하세요.\")\r\n",
    "\r\n",
    "img = cv2.imread('org_trim.jpg')\r\n",
    "cv2.imshow('img', img)\r\n",
    "cv2.setMouseCallback('img', onMouse) # 마우스 이벤트 등록 ---⑧\r\n",
    "cv2.waitKey()\r\n",
    "cv2.destroyAllWindows()                                    "
   ],
   "outputs": [
    {
     "output_type": "stream",
     "name": "stdout",
     "text": [
      "x:43, y:66, w:113, h:101\n",
      "croped.\n",
      "x:65, y:189, w:54, h:32\n",
      "croped.\n",
      "x:145, y:222, w:-86, h:-185\n",
      "좌측 상단에서 우측 하단으로 영역을 드래그 하세요.\n",
      "x:24, y:50, w:175, h:145\n",
      "croped.\n",
      "x:53, y:17, w:95, h:201\n",
      "croped.\n",
      "x:72, y:3, w:38, h:377\n",
      "croped.\n",
      "x:20, y:69, w:38, h:46\n",
      "croped.\n",
      "x:75, y:82, w:27, h:45\n",
      "croped.\n",
      "x:137, y:105, w:48, h:38\n",
      "croped.\n",
      "x:185, y:146, w:5, h:34\n",
      "croped.\n",
      "x:151, y:68, w:-93, h:58\n",
      "좌측 상단에서 우측 하단으로 영역을 드래그 하세요.\n",
      "x:61, y:127, w:2, h:4\n",
      "croped.\n",
      "x:150, y:76, w:-69, h:64\n",
      "좌측 상단에서 우측 하단으로 영역을 드래그 하세요.\n",
      "x:145, y:70, w:-60, h:69\n",
      "좌측 상단에서 우측 하단으로 영역을 드래그 하세요.\n",
      "x:141, y:72, w:-57, h:50\n",
      "좌측 상단에서 우측 하단으로 영역을 드래그 하세요.\n",
      "x:88, y:66, w:72, h:80\n",
      "croped.\n",
      "x:51, y:70, w:87, h:77\n",
      "croped.\n",
      "x:34, y:52, w:106, h:90\n",
      "croped.\n",
      "x:50, y:62, w:77, h:77\n",
      "croped.\n",
      "x:41, y:63, w:92, h:70\n",
      "croped.\n",
      "x:60, y:75, w:71, h:76\n",
      "croped.\n",
      "x:170, y:85, w:-99, h:70\n",
      "좌측 상단에서 우측 하단으로 영역을 드래그 하세요.\n",
      "x:130, y:62, w:-62, h:98\n",
      "좌측 상단에서 우측 하단으로 영역을 드래그 하세요.\n",
      "x:163, y:79, w:-131, h:108\n",
      "좌측 상단에서 우측 하단으로 영역을 드래그 하세요.\n",
      "x:44, y:72, w:72, h:96\n",
      "croped.\n",
      "x:58, y:95, w:118, h:108\n",
      "croped.\n",
      "x:60, y:80, w:80, h:93\n",
      "croped.\n",
      "x:46, y:54, w:103, h:117\n",
      "croped.\n"
     ]
    },
    {
     "output_type": "error",
     "ename": "KeyboardInterrupt",
     "evalue": "",
     "traceback": [
      "\u001b[1;31m---------------------------------------------------------------------------\u001b[0m",
      "\u001b[1;31mKeyboardInterrupt\u001b[0m                         Traceback (most recent call last)",
      "\u001b[1;32m~\\AppData\\Local\\Temp/ipykernel_10376/3615262495.py\u001b[0m in \u001b[0;36m<module>\u001b[1;34m\u001b[0m\n\u001b[0;32m     42\u001b[0m \u001b[0mcv2\u001b[0m\u001b[1;33m.\u001b[0m\u001b[0mimshow\u001b[0m\u001b[1;33m(\u001b[0m\u001b[1;34m'img'\u001b[0m\u001b[1;33m,\u001b[0m \u001b[0mimg\u001b[0m\u001b[1;33m)\u001b[0m\u001b[1;33m\u001b[0m\u001b[1;33m\u001b[0m\u001b[0m\n\u001b[0;32m     43\u001b[0m \u001b[0mcv2\u001b[0m\u001b[1;33m.\u001b[0m\u001b[0msetMouseCallback\u001b[0m\u001b[1;33m(\u001b[0m\u001b[1;34m'img'\u001b[0m\u001b[1;33m,\u001b[0m \u001b[0monMouse\u001b[0m\u001b[1;33m)\u001b[0m \u001b[1;31m# 마우스 이벤트 등록 ---⑧\u001b[0m\u001b[1;33m\u001b[0m\u001b[1;33m\u001b[0m\u001b[0m\n\u001b[1;32m---> 44\u001b[1;33m \u001b[0mcv2\u001b[0m\u001b[1;33m.\u001b[0m\u001b[0mwaitKey\u001b[0m\u001b[1;33m(\u001b[0m\u001b[1;33m)\u001b[0m\u001b[1;33m\u001b[0m\u001b[1;33m\u001b[0m\u001b[0m\n\u001b[0m\u001b[0;32m     45\u001b[0m \u001b[0mcv2\u001b[0m\u001b[1;33m.\u001b[0m\u001b[0mdestroyAllWindows\u001b[0m\u001b[1;33m(\u001b[0m\u001b[1;33m)\u001b[0m\u001b[1;33m\u001b[0m\u001b[1;33m\u001b[0m\u001b[0m\n",
      "\u001b[1;31mKeyboardInterrupt\u001b[0m: "
     ]
    }
   ],
   "metadata": {}
  }
 ],
 "metadata": {
  "orig_nbformat": 4,
  "language_info": {
   "name": "python",
   "version": "3.7.9",
   "mimetype": "text/x-python",
   "codemirror_mode": {
    "name": "ipython",
    "version": 3
   },
   "pygments_lexer": "ipython3",
   "nbconvert_exporter": "python",
   "file_extension": ".py"
  },
  "kernelspec": {
   "name": "python3",
   "display_name": "Python 3.7.9 64-bit"
  },
  "interpreter": {
   "hash": "1799d07d1b3fa052a9e4c41034cd6169a78c17ea375e5dec6a6cd89e115a1d97"
  }
 },
 "nbformat": 4,
 "nbformat_minor": 2
}