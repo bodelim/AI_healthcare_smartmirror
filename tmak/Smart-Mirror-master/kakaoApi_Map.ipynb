{
 "metadata": {
  "language_info": {
   "codemirror_mode": {
    "name": "ipython",
    "version": 3
   },
   "file_extension": ".py",
   "mimetype": "text/x-python",
   "name": "python",
   "nbconvert_exporter": "python",
   "pygments_lexer": "ipython3",
   "version": "3.7.9"
  },
  "orig_nbformat": 4,
  "kernelspec": {
   "name": "python3",
   "display_name": "Python 3.7.9 64-bit"
  },
  "interpreter": {
   "hash": "1799d07d1b3fa052a9e4c41034cd6169a78c17ea375e5dec6a6cd89e115a1d97"
  }
 },
 "nbformat": 4,
 "nbformat_minor": 2,
 "cells": [
  {
   "cell_type": "code",
   "execution_count": 3,
   "source": [
    "import requests\r\n",
    "import pandas as pd\r\n",
    "import numpy as np\r\n",
    "import folium\r\n",
    "from folium.plugins import MiniMap"
   ],
   "outputs": [],
   "metadata": {}
  },
  {
   "cell_type": "code",
   "execution_count": 4,
   "source": [
    "## region에는 검색명이 들어갈 것임\r\n",
    "## page_num은 1~3이 입력될 건데, 한 페이지 당 검색목록이 최대 15개임.\r\n",
    "## 만약 page_num이 4이상이 되면 3페이지랑 같은 15개의 결과 값을 가져옴. 그래서 1~3만 쓰는 것임\r\n",
    "## 입력 예시 -->> headers = {\"Authorization\": \"KakaoAK f221u3894o198123r9\"}\r\n",
    "## ['meta']['total_count']은 내가 검색했을 때, 나오는 총 결과 값. \r\n",
    "## ['meta']['total_count']이 45보다 크면 45개만 가져오게 됨\r\n",
    "\r\n",
    "def elec_location(region,page_num):\r\n",
    "    url = 'https://dapi.kakao.com/v2/local/search/keyword.json'\r\n",
    "    params = {'query': region,'page': page_num}\r\n",
    "    headers = {\"Authorization\": \"KakaoAK 98a509997b30ad1fd8ae661106f85dc9\"}\r\n",
    "\r\n",
    "    places = requests.get(url, params=params, headers=headers).json()['documents']\r\n",
    "    total = requests.get(url, params=params, headers=headers).json()['meta']['total_count']\r\n",
    "    if total > 45:\r\n",
    "        print(total,'개 중 45개 데이터밖에 가져오지 못했습니다!')\r\n",
    "    else :\r\n",
    "        print('모든 데이터를 가져왔습니다!')\r\n",
    "    return places\r\n"
   ],
   "outputs": [],
   "metadata": {}
  },
  {
   "cell_type": "code",
   "execution_count": 5,
   "source": [
    "## 이 함수는 위 함수 결과 값(1 ~ 45개) 하나하나 분리해서 저장할 것임\r\n",
    "## 1번 결과 값 안에는 1번 충전소 이름, 위도, 경도, 전화번호, 도로명 주소 등이 있는데 각각 배열에 저장\r\n",
    "## 우리는 충전소 ID, 충전소 이름, 위도, 경도, 도로명주소, 사이트주소를 저장할 것임\r\n",
    "\r\n",
    "def elec_info(places):\r\n",
    "    X = []\r\n",
    "    Y = []\r\n",
    "    stores = []\r\n",
    "    road_address = []\r\n",
    "    place_url = []\r\n",
    "    ID = []\r\n",
    "    i = 0\r\n",
    "    for place in places:\r\n",
    "        i += 1\r\n",
    "        print(i)\r\n",
    "        X.append(float(place['x']))\r\n",
    "        Y.append(float(place['y']))\r\n",
    "        stores.append(place['place_name'])\r\n",
    "        road_address.append(place['road_address_name'])\r\n",
    "        place_url.append(place['place_url'])\r\n",
    "        ID.append(place['id'])\r\n",
    "        if i > 14:\r\n",
    "            break\r\n",
    "\r\n",
    "    ar = np.array([ID,stores, X, Y, road_address,place_url]).T\r\n",
    "    df = pd.DataFrame(ar, columns = ['ID','stores', 'X', 'Y','road_address','place_url'])\r\n",
    "    return df"
   ],
   "outputs": [],
   "metadata": {}
  },
  {
   "cell_type": "code",
   "execution_count": 6,
   "source": [
    "## 여러개의 키워드를 검색할 때 사용할 함수임\r\n",
    "## location_name에는 ['성산일출봉 전기충전소, '한림공원 전기충전소', ... ,'모슬포 전기충전소']처럼 배열이 입력\r\n",
    "\r\n",
    "def keywords(location_name):\r\n",
    "    df = None\r\n",
    "    for loca in location:\r\n",
    "        for page in range(1,4):\r\n",
    "            local_name = elec_location(loca, page)\r\n",
    "            local_elec_info = elec_info(local_name)\r\n",
    "\r\n",
    "            if df is None:\r\n",
    "                df = local_elec_info\r\n",
    "            elif local_elec_info is None:\r\n",
    "                continue\r\n",
    "            else:\r\n",
    "                df = pd.concat([df, local_elec_info],join='outer', ignore_index = True)\r\n",
    "    return df"
   ],
   "outputs": [],
   "metadata": {}
  },
  {
   "cell_type": "code",
   "execution_count": 7,
   "source": [
    "##지도로 보여주기\r\n",
    "\r\n",
    "def make_map(dfs):\r\n",
    "    global lat\r\n",
    "    global long\r\n",
    "    # 지도 생성하기\r\n",
    "    m = folium.Map([lat,long],zoom_start=14)\r\n",
    "\r\n",
    "    # 미니맵 추가하기\r\n",
    "    minimap = MiniMap() \r\n",
    "    m.add_child(minimap)\r\n",
    "\r\n",
    "    # 마커 추가하기\r\n",
    "    for i in range(len(dfs)):\r\n",
    "        folium.Marker([df['Y'][i],df['X'][i]],\r\n",
    "                  tooltip=dfs['stores'][i],\r\n",
    "                  popup=dfs['place_url'][i],\r\n",
    "                  ).add_to(m)\r\n",
    "    return m"
   ],
   "outputs": [],
   "metadata": {}
  },
  {
   "cell_type": "code",
   "execution_count": 10,
   "source": [
    "\r\n",
    "## drop_duplicates를 해주고 인덱스 리셋을 해준다 (중복 검색 가능성 고려)\r\n",
    "\r\n",
    "location = ['남주고등학교']\r\n",
    "df = keywords(location)\r\n",
    "df = df.drop_duplicates(['ID'])\r\n",
    "df = df.reset_index()\r\n",
    "\r\n",
    "lat = [] # 위도\r\n",
    "long = [] # 경도\r\n",
    "for k in range(len(df['X'])): # 위도데이터와 경도데이터를 하나씩 다시 꺼내서 배열에 쌓음(float으로 변환하기 위함)\r\n",
    "    lat.append(df['Y'][k])\r\n",
    "    long.append(df['X'][k])\r\n",
    "lat = list(map(float, lat))\r\n",
    "long = list(map(float, long))\r\n",
    "\r\n",
    "lat = pd.DataFrame(lat).mean()\r\n",
    "long = pd.DataFrame(long).mean()\r\n",
    "\r\n",
    "make_map(df)"
   ],
   "outputs": [
    {
     "output_type": "stream",
     "name": "stdout",
     "text": [
      "모든 데이터를 가져왔습니다!\n",
      "1\n",
      "2\n",
      "3\n",
      "4\n",
      "모든 데이터를 가져왔습니다!\n",
      "1\n",
      "2\n",
      "3\n",
      "4\n",
      "모든 데이터를 가져왔습니다!\n",
      "1\n",
      "2\n",
      "3\n",
      "4\n"
     ]
    },
    {
     "output_type": "execute_result",
     "data": {
      "text/plain": [
       "<folium.folium.Map at 0x264d38d5488>"
      ],
      "text/html": [
       "<div style=\"width:100%;\"><div style=\"position:relative;width:100%;height:0;padding-bottom:60%;\"><span style=\"color:#565656\">Make this Notebook Trusted to load map: File -> Trust Notebook</span><iframe src=\"about:blank\" style=\"position:absolute;width:100%;height:100%;left:0;top:0;border:none !important;\" data-html=%3C%21DOCTYPE%20html%3E%0A%3Chead%3E%20%20%20%20%0A%20%20%20%20%3Cmeta%20http-equiv%3D%22content-type%22%20content%3D%22text/html%3B%20charset%3DUTF-8%22%20/%3E%0A%20%20%20%20%0A%20%20%20%20%20%20%20%20%3Cscript%3E%0A%20%20%20%20%20%20%20%20%20%20%20%20L_NO_TOUCH%20%3D%20false%3B%0A%20%20%20%20%20%20%20%20%20%20%20%20L_DISABLE_3D%20%3D%20false%3B%0A%20%20%20%20%20%20%20%20%3C/script%3E%0A%20%20%20%20%0A%20%20%20%20%3Cstyle%3Ehtml%2C%20body%20%7Bwidth%3A%20100%25%3Bheight%3A%20100%25%3Bmargin%3A%200%3Bpadding%3A%200%3B%7D%3C/style%3E%0A%20%20%20%20%3Cstyle%3E%23map%20%7Bposition%3Aabsolute%3Btop%3A0%3Bbottom%3A0%3Bright%3A0%3Bleft%3A0%3B%7D%3C/style%3E%0A%20%20%20%20%3Cscript%20src%3D%22https%3A//cdn.jsdelivr.net/npm/leaflet%401.6.0/dist/leaflet.js%22%3E%3C/script%3E%0A%20%20%20%20%3Cscript%20src%3D%22https%3A//code.jquery.com/jquery-1.12.4.min.js%22%3E%3C/script%3E%0A%20%20%20%20%3Cscript%20src%3D%22https%3A//maxcdn.bootstrapcdn.com/bootstrap/3.2.0/js/bootstrap.min.js%22%3E%3C/script%3E%0A%20%20%20%20%3Cscript%20src%3D%22https%3A//cdnjs.cloudflare.com/ajax/libs/Leaflet.awesome-markers/2.0.2/leaflet.awesome-markers.js%22%3E%3C/script%3E%0A%20%20%20%20%3Clink%20rel%3D%22stylesheet%22%20href%3D%22https%3A//cdn.jsdelivr.net/npm/leaflet%401.6.0/dist/leaflet.css%22/%3E%0A%20%20%20%20%3Clink%20rel%3D%22stylesheet%22%20href%3D%22https%3A//maxcdn.bootstrapcdn.com/bootstrap/3.2.0/css/bootstrap.min.css%22/%3E%0A%20%20%20%20%3Clink%20rel%3D%22stylesheet%22%20href%3D%22https%3A//maxcdn.bootstrapcdn.com/bootstrap/3.2.0/css/bootstrap-theme.min.css%22/%3E%0A%20%20%20%20%3Clink%20rel%3D%22stylesheet%22%20href%3D%22https%3A//maxcdn.bootstrapcdn.com/font-awesome/4.6.3/css/font-awesome.min.css%22/%3E%0A%20%20%20%20%3Clink%20rel%3D%22stylesheet%22%20href%3D%22https%3A//cdnjs.cloudflare.com/ajax/libs/Leaflet.awesome-markers/2.0.2/leaflet.awesome-markers.css%22/%3E%0A%20%20%20%20%3Clink%20rel%3D%22stylesheet%22%20href%3D%22https%3A//cdn.jsdelivr.net/gh/python-visualization/folium/folium/templates/leaflet.awesome.rotate.min.css%22/%3E%0A%20%20%20%20%0A%20%20%20%20%20%20%20%20%20%20%20%20%3Cmeta%20name%3D%22viewport%22%20content%3D%22width%3Ddevice-width%2C%0A%20%20%20%20%20%20%20%20%20%20%20%20%20%20%20%20initial-scale%3D1.0%2C%20maximum-scale%3D1.0%2C%20user-scalable%3Dno%22%20/%3E%0A%20%20%20%20%20%20%20%20%20%20%20%20%3Cstyle%3E%0A%20%20%20%20%20%20%20%20%20%20%20%20%20%20%20%20%23map_73f9e145f6e8401597ea3ded7f2cf87f%20%7B%0A%20%20%20%20%20%20%20%20%20%20%20%20%20%20%20%20%20%20%20%20position%3A%20relative%3B%0A%20%20%20%20%20%20%20%20%20%20%20%20%20%20%20%20%20%20%20%20width%3A%20100.0%25%3B%0A%20%20%20%20%20%20%20%20%20%20%20%20%20%20%20%20%20%20%20%20height%3A%20100.0%25%3B%0A%20%20%20%20%20%20%20%20%20%20%20%20%20%20%20%20%20%20%20%20left%3A%200.0%25%3B%0A%20%20%20%20%20%20%20%20%20%20%20%20%20%20%20%20%20%20%20%20top%3A%200.0%25%3B%0A%20%20%20%20%20%20%20%20%20%20%20%20%20%20%20%20%7D%0A%20%20%20%20%20%20%20%20%20%20%20%20%3C/style%3E%0A%20%20%20%20%20%20%20%20%0A%20%20%20%20%3Cscript%20src%3D%22https%3A//cdnjs.cloudflare.com/ajax/libs/leaflet-minimap/3.6.1/Control.MiniMap.js%22%3E%3C/script%3E%0A%20%20%20%20%3Clink%20rel%3D%22stylesheet%22%20href%3D%22https%3A//cdnjs.cloudflare.com/ajax/libs/leaflet-minimap/3.6.1/Control.MiniMap.css%22/%3E%0A%3C/head%3E%0A%3Cbody%3E%20%20%20%20%0A%20%20%20%20%0A%20%20%20%20%20%20%20%20%20%20%20%20%3Cdiv%20class%3D%22folium-map%22%20id%3D%22map_73f9e145f6e8401597ea3ded7f2cf87f%22%20%3E%3C/div%3E%0A%20%20%20%20%20%20%20%20%0A%3C/body%3E%0A%3Cscript%3E%20%20%20%20%0A%20%20%20%20%0A%20%20%20%20%20%20%20%20%20%20%20%20var%20map_73f9e145f6e8401597ea3ded7f2cf87f%20%3D%20L.map%28%0A%20%20%20%20%20%20%20%20%20%20%20%20%20%20%20%20%22map_73f9e145f6e8401597ea3ded7f2cf87f%22%2C%0A%20%20%20%20%20%20%20%20%20%20%20%20%20%20%20%20%7B%0A%20%20%20%20%20%20%20%20%20%20%20%20%20%20%20%20%20%20%20%20center%3A%20%5B33.249902885583154%2C%20126.56345278742124%5D%2C%0A%20%20%20%20%20%20%20%20%20%20%20%20%20%20%20%20%20%20%20%20crs%3A%20L.CRS.EPSG3857%2C%0A%20%20%20%20%20%20%20%20%20%20%20%20%20%20%20%20%20%20%20%20zoom%3A%2014%2C%0A%20%20%20%20%20%20%20%20%20%20%20%20%20%20%20%20%20%20%20%20zoomControl%3A%20true%2C%0A%20%20%20%20%20%20%20%20%20%20%20%20%20%20%20%20%20%20%20%20preferCanvas%3A%20false%2C%0A%20%20%20%20%20%20%20%20%20%20%20%20%20%20%20%20%7D%0A%20%20%20%20%20%20%20%20%20%20%20%20%29%3B%0A%0A%20%20%20%20%20%20%20%20%20%20%20%20%0A%0A%20%20%20%20%20%20%20%20%0A%20%20%20%20%0A%20%20%20%20%20%20%20%20%20%20%20%20var%20tile_layer_86dbe7fb0e574e52895c1d064ea7ce88%20%3D%20L.tileLayer%28%0A%20%20%20%20%20%20%20%20%20%20%20%20%20%20%20%20%22https%3A//%7Bs%7D.tile.openstreetmap.org/%7Bz%7D/%7Bx%7D/%7By%7D.png%22%2C%0A%20%20%20%20%20%20%20%20%20%20%20%20%20%20%20%20%7B%22attribution%22%3A%20%22Data%20by%20%5Cu0026copy%3B%20%5Cu003ca%20href%3D%5C%22http%3A//openstreetmap.org%5C%22%5Cu003eOpenStreetMap%5Cu003c/a%5Cu003e%2C%20under%20%5Cu003ca%20href%3D%5C%22http%3A//www.openstreetmap.org/copyright%5C%22%5Cu003eODbL%5Cu003c/a%5Cu003e.%22%2C%20%22detectRetina%22%3A%20false%2C%20%22maxNativeZoom%22%3A%2018%2C%20%22maxZoom%22%3A%2018%2C%20%22minZoom%22%3A%200%2C%20%22noWrap%22%3A%20false%2C%20%22opacity%22%3A%201%2C%20%22subdomains%22%3A%20%22abc%22%2C%20%22tms%22%3A%20false%7D%0A%20%20%20%20%20%20%20%20%20%20%20%20%29.addTo%28map_73f9e145f6e8401597ea3ded7f2cf87f%29%3B%0A%20%20%20%20%20%20%20%20%0A%20%20%20%20%0A%20%20%20%20%20%20%20%20%20%20%20%20var%20tile_layer_1fe1f7d366304bf880ea21520bd497b8%20%3D%20L.tileLayer%28%0A%20%20%20%20%20%20%20%20%20%20%20%20%20%20%20%20%22https%3A//%7Bs%7D.tile.openstreetmap.org/%7Bz%7D/%7Bx%7D/%7By%7D.png%22%2C%0A%20%20%20%20%20%20%20%20%20%20%20%20%20%20%20%20%7B%22attribution%22%3A%20%22Data%20by%20%5Cu0026copy%3B%20%5Cu003ca%20href%3D%5C%22http%3A//openstreetmap.org%5C%22%5Cu003eOpenStreetMap%5Cu003c/a%5Cu003e%2C%20under%20%5Cu003ca%20href%3D%5C%22http%3A//www.openstreetmap.org/copyright%5C%22%5Cu003eODbL%5Cu003c/a%5Cu003e.%22%2C%20%22detectRetina%22%3A%20false%2C%20%22maxNativeZoom%22%3A%2018%2C%20%22maxZoom%22%3A%2018%2C%20%22minZoom%22%3A%200%2C%20%22noWrap%22%3A%20false%2C%20%22opacity%22%3A%201%2C%20%22subdomains%22%3A%20%22abc%22%2C%20%22tms%22%3A%20false%7D%0A%20%20%20%20%20%20%20%20%20%20%20%20%29%3B%0A%20%20%20%20%20%20%20%20%20%20%20%20var%20mini_map_a5b95d46a20d48949cefa7a746a96611%20%3D%20new%20L.Control.MiniMap%28%0A%20%20%20%20%20%20%20%20%20%20%20%20%20%20%20%20tile_layer_1fe1f7d366304bf880ea21520bd497b8%2C%0A%20%20%20%20%20%20%20%20%20%20%20%20%20%20%20%20%7B%22autoToggleDisplay%22%3A%20false%2C%20%22centerFixed%22%3A%20false%2C%20%22collapsedHeight%22%3A%2025%2C%20%22collapsedWidth%22%3A%2025%2C%20%22height%22%3A%20150%2C%20%22minimized%22%3A%20false%2C%20%22position%22%3A%20%22bottomright%22%2C%20%22toggleDisplay%22%3A%20false%2C%20%22width%22%3A%20150%2C%20%22zoomAnimation%22%3A%20false%2C%20%22zoomLevelOffset%22%3A%20-5%7D%0A%20%20%20%20%20%20%20%20%20%20%20%20%29%3B%0A%20%20%20%20%20%20%20%20%20%20%20%20map_73f9e145f6e8401597ea3ded7f2cf87f.addControl%28mini_map_a5b95d46a20d48949cefa7a746a96611%29%3B%0A%20%20%20%20%20%20%20%20%0A%20%20%20%20%0A%20%20%20%20%20%20%20%20%20%20%20%20var%20marker_e51e92fae638474e81b6aa460d447467%20%3D%20L.marker%28%0A%20%20%20%20%20%20%20%20%20%20%20%20%20%20%20%20%5B33.2491123538552%2C%20126.562481299037%5D%2C%0A%20%20%20%20%20%20%20%20%20%20%20%20%20%20%20%20%7B%7D%0A%20%20%20%20%20%20%20%20%20%20%20%20%29.addTo%28map_73f9e145f6e8401597ea3ded7f2cf87f%29%3B%0A%20%20%20%20%20%20%20%20%0A%20%20%20%20%0A%20%20%20%20%20%20%20%20var%20popup_acb0fba47dc9412b8fde686fb09a1c1b%20%3D%20L.popup%28%7B%22maxWidth%22%3A%20%22100%25%22%7D%29%3B%0A%0A%20%20%20%20%20%20%20%20%0A%20%20%20%20%20%20%20%20%20%20%20%20var%20html_872ed31906cb4b90b8dce1bff003d501%20%3D%20%24%28%60%3Cdiv%20id%3D%22html_872ed31906cb4b90b8dce1bff003d501%22%20style%3D%22width%3A%20100.0%25%3B%20height%3A%20100.0%25%3B%22%3Ehttp%3A//place.map.kakao.com/11542057%3C/div%3E%60%29%5B0%5D%3B%0A%20%20%20%20%20%20%20%20%20%20%20%20popup_acb0fba47dc9412b8fde686fb09a1c1b.setContent%28html_872ed31906cb4b90b8dce1bff003d501%29%3B%0A%20%20%20%20%20%20%20%20%0A%0A%20%20%20%20%20%20%20%20marker_e51e92fae638474e81b6aa460d447467.bindPopup%28popup_acb0fba47dc9412b8fde686fb09a1c1b%29%0A%20%20%20%20%20%20%20%20%3B%0A%0A%20%20%20%20%20%20%20%20%0A%20%20%20%20%0A%20%20%20%20%0A%20%20%20%20%20%20%20%20%20%20%20%20marker_e51e92fae638474e81b6aa460d447467.bindTooltip%28%0A%20%20%20%20%20%20%20%20%20%20%20%20%20%20%20%20%60%3Cdiv%3E%0A%20%20%20%20%20%20%20%20%20%20%20%20%20%20%20%20%20%20%20%20%20%EB%B2%A0%EA%B0%80%EB%AF%B8%EC%8B%9C%EB%A3%B8%0A%20%20%20%20%20%20%20%20%20%20%20%20%20%20%20%20%20%3C/div%3E%60%2C%0A%20%20%20%20%20%20%20%20%20%20%20%20%20%20%20%20%7B%22sticky%22%3A%20true%7D%0A%20%20%20%20%20%20%20%20%20%20%20%20%29%3B%0A%20%20%20%20%20%20%20%20%0A%20%20%20%20%0A%20%20%20%20%20%20%20%20%20%20%20%20var%20marker_8e5a155dee264ff3874c48d7b4dde296%20%3D%20L.marker%28%0A%20%20%20%20%20%20%20%20%20%20%20%20%20%20%20%20%5B33.2499970530439%2C%20126.562794521676%5D%2C%0A%20%20%20%20%20%20%20%20%20%20%20%20%20%20%20%20%7B%7D%0A%20%20%20%20%20%20%20%20%20%20%20%20%29.addTo%28map_73f9e145f6e8401597ea3ded7f2cf87f%29%3B%0A%20%20%20%20%20%20%20%20%0A%20%20%20%20%0A%20%20%20%20%20%20%20%20var%20popup_89d285d7697849ad9e13e19864fab2e7%20%3D%20L.popup%28%7B%22maxWidth%22%3A%20%22100%25%22%7D%29%3B%0A%0A%20%20%20%20%20%20%20%20%0A%20%20%20%20%20%20%20%20%20%20%20%20var%20html_cd28a32ee45b4e94a32ed7504e280a27%20%3D%20%24%28%60%3Cdiv%20id%3D%22html_cd28a32ee45b4e94a32ed7504e280a27%22%20style%3D%22width%3A%20100.0%25%3B%20height%3A%20100.0%25%3B%22%3Ehttp%3A//place.map.kakao.com/21959056%3C/div%3E%60%29%5B0%5D%3B%0A%20%20%20%20%20%20%20%20%20%20%20%20popup_89d285d7697849ad9e13e19864fab2e7.setContent%28html_cd28a32ee45b4e94a32ed7504e280a27%29%3B%0A%20%20%20%20%20%20%20%20%0A%0A%20%20%20%20%20%20%20%20marker_8e5a155dee264ff3874c48d7b4dde296.bindPopup%28popup_89d285d7697849ad9e13e19864fab2e7%29%0A%20%20%20%20%20%20%20%20%3B%0A%0A%20%20%20%20%20%20%20%20%0A%20%20%20%20%0A%20%20%20%20%0A%20%20%20%20%20%20%20%20%20%20%20%20marker_8e5a155dee264ff3874c48d7b4dde296.bindTooltip%28%0A%20%20%20%20%20%20%20%20%20%20%20%20%20%20%20%20%60%3Cdiv%3E%0A%20%20%20%20%20%20%20%20%20%20%20%20%20%20%20%20%20%20%20%20%20%ED%95%B4%EA%B6%81%EB%AF%B8%EC%8B%9C%EB%A3%B8%0A%20%20%20%20%20%20%20%20%20%20%20%20%20%20%20%20%20%3C/div%3E%60%2C%0A%20%20%20%20%20%20%20%20%20%20%20%20%20%20%20%20%7B%22sticky%22%3A%20true%7D%0A%20%20%20%20%20%20%20%20%20%20%20%20%29%3B%0A%20%20%20%20%20%20%20%20%0A%20%20%20%20%0A%20%20%20%20%20%20%20%20%20%20%20%20var%20marker_a697c28ee54948fd930fe5785d3547d2%20%3D%20L.marker%28%0A%20%20%20%20%20%20%20%20%20%20%20%20%20%20%20%20%5B33.2507086866461%2C%20126.56312148876%5D%2C%0A%20%20%20%20%20%20%20%20%20%20%20%20%20%20%20%20%7B%7D%0A%20%20%20%20%20%20%20%20%20%20%20%20%29.addTo%28map_73f9e145f6e8401597ea3ded7f2cf87f%29%3B%0A%20%20%20%20%20%20%20%20%0A%20%20%20%20%0A%20%20%20%20%20%20%20%20var%20popup_50b27cdbc22b40feac304da528054bc1%20%3D%20L.popup%28%7B%22maxWidth%22%3A%20%22100%25%22%7D%29%3B%0A%0A%20%20%20%20%20%20%20%20%0A%20%20%20%20%20%20%20%20%20%20%20%20var%20html_34926e47d21d41458aac7f55cc9e35d2%20%3D%20%24%28%60%3Cdiv%20id%3D%22html_34926e47d21d41458aac7f55cc9e35d2%22%20style%3D%22width%3A%20100.0%25%3B%20height%3A%20100.0%25%3B%22%3Ehttp%3A//place.map.kakao.com/9233822%3C/div%3E%60%29%5B0%5D%3B%0A%20%20%20%20%20%20%20%20%20%20%20%20popup_50b27cdbc22b40feac304da528054bc1.setContent%28html_34926e47d21d41458aac7f55cc9e35d2%29%3B%0A%20%20%20%20%20%20%20%20%0A%0A%20%20%20%20%20%20%20%20marker_a697c28ee54948fd930fe5785d3547d2.bindPopup%28popup_50b27cdbc22b40feac304da528054bc1%29%0A%20%20%20%20%20%20%20%20%3B%0A%0A%20%20%20%20%20%20%20%20%0A%20%20%20%20%0A%20%20%20%20%0A%20%20%20%20%20%20%20%20%20%20%20%20marker_a697c28ee54948fd930fe5785d3547d2.bindTooltip%28%0A%20%20%20%20%20%20%20%20%20%20%20%20%20%20%20%20%60%3Cdiv%3E%0A%20%20%20%20%20%20%20%20%20%20%20%20%20%20%20%20%20%20%20%20%20%EC%95%BC%EC%84%B1%EB%AF%B8%EC%8B%9C%EB%A3%B8%0A%20%20%20%20%20%20%20%20%20%20%20%20%20%20%20%20%20%3C/div%3E%60%2C%0A%20%20%20%20%20%20%20%20%20%20%20%20%20%20%20%20%7B%22sticky%22%3A%20true%7D%0A%20%20%20%20%20%20%20%20%20%20%20%20%29%3B%0A%20%20%20%20%20%20%20%20%0A%20%20%20%20%0A%20%20%20%20%20%20%20%20%20%20%20%20var%20marker_bf25e8a13bc6469c8cb165fbdb05a530%20%3D%20L.marker%28%0A%20%20%20%20%20%20%20%20%20%20%20%20%20%20%20%20%5B33.2497934487874%2C%20126.565413840212%5D%2C%0A%20%20%20%20%20%20%20%20%20%20%20%20%20%20%20%20%7B%7D%0A%20%20%20%20%20%20%20%20%20%20%20%20%29.addTo%28map_73f9e145f6e8401597ea3ded7f2cf87f%29%3B%0A%20%20%20%20%20%20%20%20%0A%20%20%20%20%0A%20%20%20%20%20%20%20%20var%20popup_cea36973b94748afa2420be917513f0e%20%3D%20L.popup%28%7B%22maxWidth%22%3A%20%22100%25%22%7D%29%3B%0A%0A%20%20%20%20%20%20%20%20%0A%20%20%20%20%20%20%20%20%20%20%20%20var%20html_4aeab242e2a04fc49dd6417c10b04724%20%3D%20%24%28%60%3Cdiv%20id%3D%22html_4aeab242e2a04fc49dd6417c10b04724%22%20style%3D%22width%3A%20100.0%25%3B%20height%3A%20100.0%25%3B%22%3Ehttp%3A//place.map.kakao.com/22454629%3C/div%3E%60%29%5B0%5D%3B%0A%20%20%20%20%20%20%20%20%20%20%20%20popup_cea36973b94748afa2420be917513f0e.setContent%28html_4aeab242e2a04fc49dd6417c10b04724%29%3B%0A%20%20%20%20%20%20%20%20%0A%0A%20%20%20%20%20%20%20%20marker_bf25e8a13bc6469c8cb165fbdb05a530.bindPopup%28popup_cea36973b94748afa2420be917513f0e%29%0A%20%20%20%20%20%20%20%20%3B%0A%0A%20%20%20%20%20%20%20%20%0A%20%20%20%20%0A%20%20%20%20%0A%20%20%20%20%20%20%20%20%20%20%20%20marker_bf25e8a13bc6469c8cb165fbdb05a530.bindTooltip%28%0A%20%20%20%20%20%20%20%20%20%20%20%20%20%20%20%20%60%3Cdiv%3E%0A%20%20%20%20%20%20%20%20%20%20%20%20%20%20%20%20%20%20%20%20%20%EA%B3%A0%EB%A0%A4%EB%AF%B8%EC%8B%9C%EC%B4%8C%0A%20%20%20%20%20%20%20%20%20%20%20%20%20%20%20%20%20%3C/div%3E%60%2C%0A%20%20%20%20%20%20%20%20%20%20%20%20%20%20%20%20%7B%22sticky%22%3A%20true%7D%0A%20%20%20%20%20%20%20%20%20%20%20%20%29%3B%0A%20%20%20%20%20%20%20%20%0A%3C/script%3E onload=\"this.contentDocument.open();this.contentDocument.write(    decodeURIComponent(this.getAttribute('data-html')));this.contentDocument.close();\" allowfullscreen webkitallowfullscreen mozallowfullscreen></iframe></div></div>"
      ]
     },
     "metadata": {},
     "execution_count": 10
    }
   ],
   "metadata": {}
  },
  {
   "cell_type": "code",
   "execution_count": null,
   "source": [
    "\r\n"
   ],
   "outputs": [],
   "metadata": {}
  },
  {
   "cell_type": "code",
   "execution_count": null,
   "source": [],
   "outputs": [],
   "metadata": {}
  }
 ]
}