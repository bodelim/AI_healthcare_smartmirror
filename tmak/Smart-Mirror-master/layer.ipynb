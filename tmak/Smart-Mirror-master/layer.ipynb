{
 "cells": [
  {
   "cell_type": "code",
   "execution_count": 4,
   "source": [
    "import tensorflow as tf\r\n",
    "from tensorflow import keras\r\n",
    "import numpy as np"
   ],
   "outputs": [],
   "metadata": {}
  },
  {
   "cell_type": "code",
   "execution_count": 5,
   "source": [
    "x_data = np.array([1, 2, 3, 4])\r\n",
    "y_data = x_data * 2\r\n",
    "print(x_data)\r\n",
    "print(y_data)\r\n",
    "#b = np.array([6 , -6, 6, 36, 90, 174, 294, 456, 666, 930, 1254, 1644, 2106, 2646, 3270, 3984, 4794, 5706, 6726, 7860])\r\n",
    "\r\n",
    "#b = np.array([10, 20, 34, 88, 158, 260, 400, 584, 818, 1108, 1460, 1880])\r\n",
    "\r\n",
    "a_test = np.array([13, 14])\r\n"
   ],
   "outputs": [
    {
     "output_type": "stream",
     "name": "stdout",
     "text": [
      "[1 2 3 4]\n",
      "[2 4 6 8]\n"
     ]
    }
   ],
   "metadata": {}
  },
  {
   "cell_type": "code",
   "execution_count": 6,
   "source": [
    "from tensorflow.keras.utils import plot_model\r\n",
    "\r\n",
    "# model에 순차적으로 레이어를 쌓는다\r\n",
    "model = keras.Sequential([\r\n",
    "# model에 층층이 추가, 첫번째 layer는 input_shape를 명시할것!\r\n",
    "    keras.layers.Dense(32,input_shape=(1,)),\r\n",
    "    keras.layers.Dense(64, activation='relu'),\r\n",
    "    keras.layers.Dense(128, activation='relu'),\r\n",
    "    keras.layers.Dense(1)\r\n",
    "])\r\n",
    "\r\n",
    "# 컴파일\r\n",
    "model.compile(loss='mse', optimizer='adam')\r\n",
    "\r\n",
    "epcount = 4000\r\n",
    "# 학습\r\n",
    "learn_History = model.fit(x_data, y_data, epochs=epcount, verbose=0)\r\n",
    "\r\n",
    "model.summary()\r\n",
    "\r\n",
    "model.save('model.h5') # 학습모델 저장\r\n",
    "\r\n",
    "# 정확도 검사\r\n",
    "#model.evaluate(a_test, b_test, bat\r\n",
    "# 예측\r\n",
    "print('=========================정답=========================\\n', y_data, '\\n=========================결과=========================\\npredict:', model.predict(x_data).flatten())"
   ],
   "outputs": [
    {
     "output_type": "stream",
     "name": "stdout",
     "text": [
      "Model: \"sequential_1\"\n",
      "_________________________________________________________________\n",
      "Layer (type)                 Output Shape              Param #   \n",
      "=================================================================\n",
      "dense_4 (Dense)              (None, 32)                64        \n",
      "_________________________________________________________________\n",
      "dense_5 (Dense)              (None, 64)                2112      \n",
      "_________________________________________________________________\n",
      "dense_6 (Dense)              (None, 128)               8320      \n",
      "_________________________________________________________________\n",
      "dense_7 (Dense)              (None, 1)                 129       \n",
      "=================================================================\n",
      "Total params: 10,625\n",
      "Trainable params: 10,625\n",
      "Non-trainable params: 0\n",
      "_________________________________________________________________\n",
      "=========================정답=========================\n",
      " [2 4 6 8] \n",
      "=========================결과=========================\n",
      "predict: [2. 4. 6. 8.] 1\n"
     ]
    }
   ],
   "metadata": {}
  },
  {
   "cell_type": "markdown",
   "source": [],
   "metadata": {}
  },
  {
   "cell_type": "markdown",
   "source": [],
   "metadata": {}
  },
  {
   "cell_type": "code",
   "execution_count": 7,
   "source": [
    "import matplotlib.pyplot as plt\r\n",
    "\r\n",
    "loss = learn_History.history['loss']\r\n",
    "#val_loss = learn_History.history['val_loss']\r\n",
    "\r\n",
    "epochs = range(epcount)\r\n",
    "\r\n",
    "plt.plot(epochs, loss, 'b', label='Training loss')\r\n",
    "#plt.plot(epochs, val_loss, 'b', label='Validation loss')\r\n",
    "plt.title('Training and validation loss')\r\n",
    "plt.xlabel('Epochs')\r\n",
    "plt.ylabel('Loss')\r\n",
    "plt.legend()\r\n",
    "\r\n",
    "plt.show()"
   ],
   "outputs": [
    {
     "output_type": "display_data",
     "data": {
      "text/plain": [
       "<Figure size 432x288 with 1 Axes>"
      ],
      "image/png": "[encoded data removed]"
     },
     "metadata": {
      "needs_background": "light"
     }
    }
   ],
   "metadata": {}
  }
 ],
 "metadata": {
  "orig_nbformat": 4,
  "language_info": {
   "name": "python",
   "version": "3.9.6",
   "mimetype": "text/x-python",
   "codemirror_mode": {
    "name": "ipython",
    "version": 3
   },
   "pygments_lexer": "ipython3",
   "nbconvert_exporter": "python",
   "file_extension": ".py"
  },
  "kernelspec": {
   "name": "python3",
   "display_name": "Python 3.9.6 64-bit"
  },
  "interpreter": {
   "hash": "dfff2936f963887e210976ced0bef9f6ad01e6d60825307167f55aa3217bb9ed"
  }
 },
 "nbformat": 4,
 "nbformat_minor": 2
}