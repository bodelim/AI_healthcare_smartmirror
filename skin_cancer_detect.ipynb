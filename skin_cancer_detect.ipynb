{
 "cells": [
  {
   "cell_type": "code",
   "execution_count": 1,
   "source": [
    "from PIL import Image\r\n",
    "import os, glob, numpy as np\r\n",
    "from sklearn.model_selection import train_test_split\r\n",
    "\r\n",
    "caltech_dir = \"./skin_train_data\"\r\n",
    "categories = [\"cancer\", \"wound\", \"atopi\"]\r\n",
    "nb_classes = len(categories)\r\n",
    "\r\n",
    "image_w = 64\r\n",
    "image_h = 64\r\n",
    "\r\n",
    "pixels = image_h * image_w * 3\r\n",
    "\r\n",
    "X = []\r\n",
    "y = []\r\n",
    "\r\n",
    "for idx, cat in enumerate(categories):\r\n",
    "    \r\n",
    "    #one-hot 인코딩\r\n",
    "    label = [0 for i in range(nb_classes)]\r\n",
    "    label[idx] = 1\r\n",
    "    print(str(label))\r\n",
    "\r\n",
    "    image_dir = caltech_dir + \"/\" + cat\r\n",
    "    files = glob.glob(image_dir+\"/*.jpg\")\r\n",
    "    print(cat, \" 파일 길이 : \", len(files))\r\n",
    "    for i, f in enumerate(files):\r\n",
    "        img = Image.open(f)\r\n",
    "        img = img.convert(\"RGB\")\r\n",
    "        img = img.resize((image_w, image_h))\r\n",
    "        data = np.asarray(img)\r\n",
    "\r\n",
    "        X.append(data)\r\n",
    "        y.append(label)\r\n",
    "\r\n",
    "        if i % 700 == 0:\r\n",
    "            print(cat, \" : \", f)\r\n",
    "\r\n",
    "X = np.array(X)\r\n",
    "y = np.array(y)\r\n",
    "\r\n",
    "\r\n",
    "\r\n",
    "X_train, X_test, y_train, y_test = train_test_split(X, y)\r\n",
    "xy = (X_train, X_test, y_train, y_test)\r\n",
    "np.save(\"./skin_train_data/numpy/skin_numpy.npy\", xy)\r\n",
    "\r\n",
    "print(\"ok\", len(y))\r\n"
   ],
   "outputs": [
    {
     "output_type": "stream",
     "name": "stdout",
     "text": [
      "[1, 0, 0]\n",
      "cancer  파일 길이 :  2037\n",
      "cancer  :  ./skin_train_data/cancer\\ISIC_0024306.jpg\n",
      "cancer  :  ./skin_train_data/cancer\\ISIC_0025006.jpg\n",
      "cancer  :  ./skin_train_data/cancer\\ISIC_0025706.jpg\n",
      "[0, 1, 0]\n",
      "wound  파일 길이 :  3502\n",
      "wound  :  ./skin_train_data/wound\\_0_1001.jpg\n",
      "wound  :  ./skin_train_data/wound\\_0_2775.jpg\n",
      "wound  :  ./skin_train_data/wound\\_0_4481.jpg\n",
      "wound  :  ./skin_train_data/wound\\_0_6274.jpg\n",
      "wound  :  ./skin_train_data/wound\\_0_8131.jpg\n"
     ]
    }
   ],
   "metadata": {}
  },
  {
   "cell_type": "markdown",
   "source": [
    "이제 numpy 데이터를 불러온다. 저것을 가지고 학습!"
   ],
   "metadata": {}
  },
  {
   "cell_type": "code",
   "execution_count": null,
   "source": [
    "import os, glob, numpy as np\r\n",
    "from keras.models import Sequential\r\n",
    "from keras.layers import Conv2D, MaxPooling2D, Dense, Flatten, Dropout\r\n",
    "from keras.callbacks import EarlyStopping, ModelCheckpoint\r\n",
    "import matplotlib.pyplot as plt\r\n",
    "import tensorflow.python.keras.backend as K\r\n",
    "\r\n",
    "import tensorflow as tf\r\n",
    "config = tf.compat.v1.ConfigProto() \r\n",
    "config.gpu_options.allow_growth = True\r\n",
    "session = tf.compat.v1.Session(config=config)\r\n",
    "\r\n",
    "np_load_old = np.load\r\n",
    "np.load = lambda *a,**k: np_load_old(*a, allow_pickle=True)\r\n",
    "X_train, X_test, y_train, y_test = np.load('./skin_train_data/numpy/skin_numpy.npy')\r\n",
    "np.load = np_load_old\r\n",
    "\r\n",
    "print(X_train.shape)\r\n",
    "print(X_train.shape[0])"
   ],
   "outputs": [
    {
     "output_type": "stream",
     "name": "stdout",
     "text": [
      "(5910, 64, 64, 3)\n",
      "5910\n"
     ]
    }
   ],
   "metadata": {}
  },
  {
   "cell_type": "code",
   "execution_count": null,
   "source": [
    "categories = [\"cancer\", \"wound\", \"atopi\"]\r\n",
    "nb_classes = len(categories)\r\n",
    "\r\n",
    "#일반화\r\n",
    "X_train = X_train.astype(float) / 255\r\n",
    "X_test = X_test.astype(float) / 255"
   ],
   "outputs": [],
   "metadata": {}
  },
  {
   "cell_type": "code",
   "execution_count": null,
   "source": [
    "model = Sequential()\r\n",
    "model.add(Conv2D(32, (3,3), padding=\"same\", input_shape=X_train.shape[1:], activation='relu'))\r\n",
    "model.add(MaxPooling2D(pool_size=(2,2)))\r\n",
    "model.add(Dropout(0.25))\r\n",
    "\r\n",
    "model.add(Conv2D(64, (3,3), padding=\"same\", activation='relu'))\r\n",
    "model.add(MaxPooling2D(pool_size=(2,2)))\r\n",
    "model.add(Dropout(0.25))\r\n",
    "\r\n",
    "model.add(Flatten())\r\n",
    "model.add(Dense(128, activation='relu'))\r\n",
    "model.add(Dropout(0.5))\r\n",
    "model.add(Dense(nb_classes, activation='softmax'))\r\n",
    "model.compile(loss='categorical_crossentropy', optimizer='adam', metrics=['accuracy'])\r\n",
    "model_dir = './model'\r\n",
    "\r\n",
    "if not os.path.exists(model_dir):\r\n",
    "    os.mkdir(model_dir)\r\n",
    "\r\n",
    "model_path = 'skin_img_classification.h5'\r\n",
    "checkpoint = ModelCheckpoint(filepath=model_path , monitor='val_loss', verbose=1, save_best_only=True)\r\n",
    "early_stopping = EarlyStopping(monitor='val_loss', patience=6)\r\n",
    "\r\n"
   ],
   "outputs": [],
   "metadata": {}
  },
  {
   "cell_type": "code",
   "execution_count": null,
   "source": [
    "model.summary()"
   ],
   "outputs": [
    {
     "output_type": "stream",
     "name": "stdout",
     "text": [
      "Model: \"sequential\"\n",
      "_________________________________________________________________\n",
      "Layer (type)                 Output Shape              Param #   \n",
      "=================================================================\n",
      "conv2d (Conv2D)              (None, 64, 64, 32)        896       \n",
      "_________________________________________________________________\n",
      "max_pooling2d (MaxPooling2D) (None, 32, 32, 32)        0         \n",
      "_________________________________________________________________\n",
      "dropout (Dropout)            (None, 32, 32, 32)        0         \n",
      "_________________________________________________________________\n",
      "conv2d_1 (Conv2D)            (None, 32, 32, 64)        18496     \n",
      "_________________________________________________________________\n",
      "max_pooling2d_1 (MaxPooling2 (None, 16, 16, 64)        0         \n",
      "_________________________________________________________________\n",
      "dropout_1 (Dropout)          (None, 16, 16, 64)        0         \n",
      "_________________________________________________________________\n",
      "flatten (Flatten)            (None, 16384)             0         \n",
      "_________________________________________________________________\n",
      "dense (Dense)                (None, 128)               2097280   \n",
      "_________________________________________________________________\n",
      "dropout_2 (Dropout)          (None, 128)               0         \n",
      "_________________________________________________________________\n",
      "dense_1 (Dense)              (None, 3)                 387       \n",
      "=================================================================\n",
      "Total params: 2,117,059\n",
      "Trainable params: 2,117,059\n",
      "Non-trainable params: 0\n",
      "_________________________________________________________________\n"
     ]
    }
   ],
   "metadata": {}
  },
  {
   "cell_type": "code",
   "execution_count": null,
   "source": [
    "\r\n",
    "history = model.fit(X_train, y_train, batch_size=16, epochs=100, validation_split=0.25, callbacks=[checkpoint, early_stopping])"
   ],
   "outputs": [
    {
     "output_type": "stream",
     "name": "stdout",
     "text": [
      "Epoch 1/100\n",
      "277/277 [==============================] - 21s 72ms/step - loss: 0.6933 - accuracy: 0.6988 - val_loss: 0.3032 - val_accuracy: 0.9026\n",
      "\n",
      "Epoch 00001: val_loss improved from inf to 0.30325, saving model to skin_img_classification.h5\n",
      "Epoch 2/100\n",
      "277/277 [==============================] - 20s 72ms/step - loss: 0.3407 - accuracy: 0.8773 - val_loss: 0.2248 - val_accuracy: 0.9290\n",
      "\n",
      "Epoch 00002: val_loss improved from 0.30325 to 0.22483, saving model to skin_img_classification.h5\n",
      "Epoch 3/100\n",
      "277/277 [==============================] - 19s 68ms/step - loss: 0.2679 - accuracy: 0.9023 - val_loss: 0.2059 - val_accuracy: 0.9263\n",
      "\n",
      "Epoch 00003: val_loss improved from 0.22483 to 0.20593, saving model to skin_img_classification.h5\n",
      "Epoch 4/100\n",
      "277/277 [==============================] - 19s 68ms/step - loss: 0.2149 - accuracy: 0.9251 - val_loss: 0.1589 - val_accuracy: 0.9445\n",
      "\n",
      "Epoch 00004: val_loss improved from 0.20593 to 0.15891, saving model to skin_img_classification.h5\n",
      "Epoch 5/100\n",
      "277/277 [==============================] - 18s 66ms/step - loss: 0.1812 - accuracy: 0.9377 - val_loss: 0.1208 - val_accuracy: 0.9628\n",
      "\n",
      "Epoch 00005: val_loss improved from 0.15891 to 0.12082, saving model to skin_img_classification.h5\n",
      "Epoch 6/100\n",
      "277/277 [==============================] - 19s 67ms/step - loss: 0.1715 - accuracy: 0.9386 - val_loss: 0.2057 - val_accuracy: 0.9330\n",
      "\n",
      "Epoch 00006: val_loss did not improve from 0.12082\n",
      "Epoch 7/100\n",
      "277/277 [==============================] - 18s 66ms/step - loss: 0.1508 - accuracy: 0.9472 - val_loss: 0.0980 - val_accuracy: 0.9696\n",
      "\n",
      "Epoch 00007: val_loss improved from 0.12082 to 0.09799, saving model to skin_img_classification.h5\n",
      "Epoch 8/100\n",
      "277/277 [==============================] - 19s 67ms/step - loss: 0.1433 - accuracy: 0.9497 - val_loss: 0.1129 - val_accuracy: 0.9696\n",
      "\n",
      "Epoch 00008: val_loss did not improve from 0.09799\n",
      "Epoch 9/100\n",
      "277/277 [==============================] - 18s 67ms/step - loss: 0.1257 - accuracy: 0.9558 - val_loss: 0.1133 - val_accuracy: 0.9675\n",
      "\n",
      "Epoch 00009: val_loss did not improve from 0.09799\n",
      "Epoch 10/100\n",
      "277/277 [==============================] - 19s 68ms/step - loss: 0.1061 - accuracy: 0.9625 - val_loss: 0.1148 - val_accuracy: 0.9662\n",
      "\n",
      "Epoch 00010: val_loss did not improve from 0.09799\n",
      "Epoch 11/100\n",
      "277/277 [==============================] - 19s 70ms/step - loss: 0.0783 - accuracy: 0.9738 - val_loss: 0.0933 - val_accuracy: 0.9811\n",
      "\n",
      "Epoch 00011: val_loss improved from 0.09799 to 0.09325, saving model to skin_img_classification.h5\n",
      "Epoch 12/100\n",
      "277/277 [==============================] - 19s 68ms/step - loss: 0.0746 - accuracy: 0.9736 - val_loss: 0.1088 - val_accuracy: 0.9635\n",
      "\n",
      "Epoch 00012: val_loss did not improve from 0.09325\n",
      "Epoch 13/100\n",
      "277/277 [==============================] - 18s 66ms/step - loss: 0.0891 - accuracy: 0.9682 - val_loss: 0.0937 - val_accuracy: 0.9750\n",
      "\n",
      "Epoch 00013: val_loss did not improve from 0.09325\n",
      "Epoch 14/100\n",
      "277/277 [==============================] - 18s 66ms/step - loss: 0.0857 - accuracy: 0.9695 - val_loss: 0.0959 - val_accuracy: 0.9736\n",
      "\n",
      "Epoch 00014: val_loss did not improve from 0.09325\n",
      "Epoch 15/100\n",
      "277/277 [==============================] - 19s 68ms/step - loss: 0.0930 - accuracy: 0.9702 - val_loss: 0.0533 - val_accuracy: 0.9878\n",
      "\n",
      "Epoch 00015: val_loss improved from 0.09325 to 0.05331, saving model to skin_img_classification.h5\n",
      "Epoch 16/100\n",
      "277/277 [==============================] - 21s 75ms/step - loss: 0.0605 - accuracy: 0.9799 - val_loss: 0.0898 - val_accuracy: 0.9729\n",
      "\n",
      "Epoch 00016: val_loss did not improve from 0.05331\n",
      "Epoch 17/100\n",
      "277/277 [==============================] - 20s 74ms/step - loss: 0.0688 - accuracy: 0.9756 - val_loss: 0.0627 - val_accuracy: 0.9871\n",
      "\n",
      "Epoch 00017: val_loss did not improve from 0.05331\n",
      "Epoch 18/100\n",
      "277/277 [==============================] - 19s 67ms/step - loss: 0.0529 - accuracy: 0.9838 - val_loss: 0.0920 - val_accuracy: 0.9817\n",
      "\n",
      "Epoch 00018: val_loss did not improve from 0.05331\n",
      "Epoch 19/100\n",
      "277/277 [==============================] - 19s 70ms/step - loss: 0.0488 - accuracy: 0.9844 - val_loss: 0.0510 - val_accuracy: 0.9885\n",
      "\n",
      "Epoch 00019: val_loss improved from 0.05331 to 0.05105, saving model to skin_img_classification.h5\n",
      "Epoch 20/100\n",
      "277/277 [==============================] - 21s 77ms/step - loss: 0.0541 - accuracy: 0.9810 - val_loss: 0.0537 - val_accuracy: 0.9892\n",
      "\n",
      "Epoch 00020: val_loss did not improve from 0.05105\n",
      "Epoch 21/100\n",
      "277/277 [==============================] - 19s 69ms/step - loss: 0.0458 - accuracy: 0.9844 - val_loss: 0.0430 - val_accuracy: 0.9885\n",
      "\n",
      "Epoch 00021: val_loss improved from 0.05105 to 0.04298, saving model to skin_img_classification.h5\n",
      "Epoch 22/100\n",
      "277/277 [==============================] - 20s 71ms/step - loss: 0.0612 - accuracy: 0.9808 - val_loss: 0.0924 - val_accuracy: 0.9790\n",
      "\n",
      "Epoch 00022: val_loss did not improve from 0.04298\n",
      "Epoch 23/100\n",
      "277/277 [==============================] - 19s 70ms/step - loss: 0.0635 - accuracy: 0.9806 - val_loss: 0.0392 - val_accuracy: 0.9912\n",
      "\n",
      "Epoch 00023: val_loss improved from 0.04298 to 0.03921, saving model to skin_img_classification.h5\n",
      "Epoch 24/100\n",
      "277/277 [==============================] - 19s 70ms/step - loss: 0.0266 - accuracy: 0.9923 - val_loss: 0.0333 - val_accuracy: 0.9919\n",
      "\n",
      "Epoch 00024: val_loss improved from 0.03921 to 0.03334, saving model to skin_img_classification.h5\n",
      "Epoch 25/100\n",
      "277/277 [==============================] - 19s 69ms/step - loss: 0.0356 - accuracy: 0.9883 - val_loss: 0.0441 - val_accuracy: 0.9919\n",
      "\n",
      "Epoch 00025: val_loss did not improve from 0.03334\n",
      "Epoch 26/100\n",
      "277/277 [==============================] - 20s 74ms/step - loss: 0.0560 - accuracy: 0.9813 - val_loss: 0.0712 - val_accuracy: 0.9824\n",
      "\n",
      "Epoch 00026: val_loss did not improve from 0.03334\n",
      "Epoch 27/100\n",
      "277/277 [==============================] - 21s 76ms/step - loss: 0.0522 - accuracy: 0.9813 - val_loss: 0.0554 - val_accuracy: 0.9858\n",
      "\n",
      "Epoch 00027: val_loss did not improve from 0.03334\n",
      "Epoch 28/100\n",
      "277/277 [==============================] - 21s 74ms/step - loss: 0.0336 - accuracy: 0.9892 - val_loss: 0.0644 - val_accuracy: 0.9878\n",
      "\n",
      "Epoch 00028: val_loss did not improve from 0.03334\n",
      "Epoch 29/100\n",
      "277/277 [==============================] - 19s 68ms/step - loss: 0.0446 - accuracy: 0.9840 - val_loss: 0.0657 - val_accuracy: 0.9838\n",
      "\n",
      "Epoch 00029: val_loss did not improve from 0.03334\n",
      "Epoch 30/100\n",
      "277/277 [==============================] - 19s 69ms/step - loss: 0.0304 - accuracy: 0.9898 - val_loss: 0.0617 - val_accuracy: 0.9865\n",
      "\n",
      "Epoch 00030: val_loss did not improve from 0.03334\n"
     ]
    }
   ],
   "metadata": {}
  },
  {
   "cell_type": "code",
   "execution_count": null,
   "source": [
    "print(\"정확도 : %.4f\" % (model.evaluate(X_test, y_test)[1]))"
   ],
   "outputs": [
    {
     "output_type": "stream",
     "name": "stdout",
     "text": [
      "62/62 [==============================] - 2s 37ms/step - loss: 0.0440 - accuracy: 0.9914\n",
      "정확도 : 0.9914\n"
     ]
    }
   ],
   "metadata": {}
  },
  {
   "cell_type": "code",
   "execution_count": null,
   "source": [
    "y_vloss = history.history['val_loss']\r\n",
    "y_loss = history.history['loss']\r\n",
    "\r\n",
    "x_len = np.arange(len(y_loss))\r\n",
    "\r\n",
    "plt.plot(x_len, y_vloss, marker='.', c='red', label='val_set_loss')\r\n",
    "plt.plot(x_len, y_loss, marker='.', c='blue', label='train_set_loss')\r\n",
    "plt.legend()\r\n",
    "plt.xlabel('epochs')\r\n",
    "plt.ylabel('loss')\r\n",
    "plt.grid()\r\n",
    "plt.show()"
   ],
   "outputs": [
    {
     "output_type": "display_data",
     "data": {
      "text/plain": [
       "<Figure size 432x288 with 1 Axes>"
      ],
      "image/png": "[encoded data removed]"
     },
     "metadata": {
      "needs_background": "light"
     }
    }
   ],
   "metadata": {}
  },
  {
   "cell_type": "code",
   "execution_count": null,
   "source": [
    "from PIL import Image\r\n",
    "import os, glob, numpy as np\r\n",
    "from keras.models import load_model\r\n",
    "\r\n",
    "caltech_dir = \"./skin_train_data/test_img\"\r\n",
    "image_w = 64\r\n",
    "image_h = 64\r\n",
    "\r\n",
    "pixels = image_h * image_w * 3\r\n",
    "\r\n",
    "X = []\r\n",
    "filenames = []\r\n",
    "files = glob.glob(caltech_dir+\"/*.*\")\r\n",
    "for i, f in enumerate(files):\r\n",
    "    img = Image.open(f)\r\n",
    "    img = img.convert(\"RGB\")\r\n",
    "    img = img.resize((image_w, image_h))\r\n",
    "    data = np.asarray(img)\r\n",
    "    filenames.append(f)\r\n",
    "    X.append(data)\r\n",
    "\r\n",
    "X = np.array(X)\r\n",
    "#print(str(X))\r\n",
    "model = load_model('skin_img_classification.h5')\r\n",
    "\r\n",
    "prediction = model.predict(X)\r\n",
    "np.set_printoptions(formatter={'float': lambda x: \"{0:0.3f}\".format(x)})\r\n",
    "cnt = 0\r\n",
    "\r\n",
    "for i in prediction:\r\n",
    "    pre_ans = i.argmax()  # 예측 레이블\r\n",
    "    print(i)\r\n",
    "    print(pre_ans)\r\n",
    "    pre_ans_str = ''\r\n",
    "    if pre_ans == 0: pre_ans_str = \"피부암\"\r\n",
    "    else: pre_ans_str = \"상처\"\r\n",
    "    if i[0] >= 0.8 : print(filenames[cnt].split(\"\\\\\")[1]+\"이미지: \"+pre_ans_str+\"(으)로 추정됨.\")\r\n",
    "    if i[1] >= 0.8: print(filenames[cnt].split(\"\\\\\")[1]+\"이미지: \"+pre_ans_str+\"(으)로 추정됨.\")\r\n",
    "    cnt += 1\r\n",
    "    # print(i.argmax()) #얘가 레이블 [1. 0. 0.] 이런식으로 되어 있는 것을 숫자로 바꿔주는 것.\r\n",
    "    # 즉 얘랑, 나중에 카테고리 데이터 불러와서 카테고리랑 비교를 해서 같으면 맞는거고, 아니면 틀린거로 취급하면 됨\r\n"
   ],
   "outputs": [
    {
     "output_type": "stream",
     "name": "stdout",
     "text": [
      "[0.000 1.000 0.000]\n",
      "1\n",
      "cancertest.png이미지: 상처(으)로 추정됨.\n",
      "[1.000 0.000 0.000]\n",
      "0\n",
      "ISIC_0029327.jpg이미지: 피부암(으)로 추정됨.\n",
      "[0.000 1.000 0.000]\n",
      "1\n",
      "woundtest.jpg.png이미지: 상처(으)로 추정됨.\n",
      "[0.000 1.000 0.000]\n",
      "1\n",
      "woundtest2.png이미지: 상처(으)로 추정됨.\n"
     ]
    }
   ],
   "metadata": {}
  },
  {
   "cell_type": "code",
   "execution_count": null,
   "source": [],
   "outputs": [],
   "metadata": {}
  }
 ],
 "metadata": {
  "kernelspec": {
   "name": "python3",
   "display_name": "Python 3.7.9 64-bit"
  },
  "language_info": {
   "codemirror_mode": {
    "name": "ipython",
    "version": 3
   },
   "file_extension": ".py",
   "mimetype": "text/x-python",
   "name": "python",
   "nbconvert_exporter": "python",
   "pygments_lexer": "ipython3",
   "version": "3.7.9"
  },
  "interpreter": {
   "hash": "1799d07d1b3fa052a9e4c41034cd6169a78c17ea375e5dec6a6cd89e115a1d97"
  }
 },
 "nbformat": 4,
 "nbformat_minor": 2
}